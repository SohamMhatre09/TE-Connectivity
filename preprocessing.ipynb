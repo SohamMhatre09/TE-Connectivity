{
 "cells": [
  {
   "cell_type": "code",
   "execution_count": 8,
   "metadata": {},
   "outputs": [
    {
     "name": "stderr",
     "output_type": "stream",
     "text": [
      "/tmp/ipykernel_10744/332946651.py:3: DtypeWarning: Columns (24,63) have mixed types. Specify dtype option on import or set low_memory=False.\n",
      "  feb_24_df = pd.read_csv(r'/home/mb/Projects/TE/feb-24.csv')\n"
     ]
    }
   ],
   "source": [
    "import pandas as pd\n",
    "# Load the jan-24.csv file\n",
    "feb_24_df = pd.read_csv(r'/home/mb/Projects/TE/feb-24.csv')"
   ]
  },
  {
   "cell_type": "code",
   "execution_count": 12,
   "metadata": {},
   "outputs": [
    {
     "data": {
      "text/plain": [
       "(19151, 67)"
      ]
     },
     "execution_count": 12,
     "metadata": {},
     "output_type": "execute_result"
    }
   ],
   "source": [
    "feb_24_df.shape"
   ]
  },
  {
   "cell_type": "code",
   "execution_count": 10,
   "metadata": {},
   "outputs": [
    {
     "data": {
      "text/plain": [
       "3875"
      ]
     },
     "execution_count": 10,
     "metadata": {},
     "output_type": "execute_result"
    }
   ],
   "source": [
    "import pandas as pd\n",
    "mql = pd.read_csv(r'/home/mb/Projects/TE/MQLs.csv')\n",
    "mql[\"Email\"].nunique()"
   ]
  },
  {
   "cell_type": "code",
   "execution_count": 11,
   "metadata": {},
   "outputs": [
    {
     "data": {
      "text/plain": [
       "(554, 13)"
      ]
     },
     "execution_count": 11,
     "metadata": {},
     "output_type": "execute_result"
    }
   ],
   "source": [
    "# Convert 'Most Recent MQL Date' to datetime\n",
    "mql['Most Recent MQL Date'] = pd.to_datetime(mql['Most Recent MQL Date'])\n",
    "\n",
    "# Filter rows where 'Most Recent MQL Date' is in January\n",
    "mql_february = mql[mql['Most Recent MQL Date'].dt.month == 2]\n",
    "\n",
    "# Display the shape of the filtered DataFrame\n",
    "mql_february.shape"
   ]
  },
  {
   "cell_type": "code",
   "execution_count": 14,
   "metadata": {},
   "outputs": [
    {
     "name": "stderr",
     "output_type": "stream",
     "text": [
      "/tmp/ipykernel_10744/4070950814.py:2: DtypeWarning: Columns (24,63) have mixed types. Specify dtype option on import or set low_memory=False.\n",
      "  feb_24_df_unique = pd.read_csv(r'/home/mb/Projects/TE/feb-24.csv')\n"
     ]
    },
    {
     "name": "stdout",
     "output_type": "stream",
     "text": [
      "None\n",
      "(19161, 80)\n"
     ]
    }
   ],
   "source": [
    "# Drop duplicate rows based on the 'Email Address' column in jan_24_df\n",
    "feb_24_df_unique = pd.read_csv(r'/home/mb/Projects/TE/feb-24.csv')\n",
    "\n",
    "# Perform the join operation\n",
    "merged_df = pd.merge(feb_24_df_unique, mql_february, left_on='Email Address', right_on='Email', how='left')\n",
    "\n",
    "# Drop duplicates if any\n",
    "merged_df = merged_df.drop_duplicates()\n",
    "\n",
    "# Display the merged dataframe\n",
    "print(merged_df.to_csv('./merged_mql_feb24.csv', index=False))\n",
    "\n",
    "# Check the shape of the merged dataframe\n",
    "print(merged_df.shape)"
   ]
  },
  {
   "cell_type": "code",
   "execution_count": null,
   "metadata": {},
   "outputs": [],
   "source": []
  }
 ],
 "metadata": {
  "kernelspec": {
   "display_name": "venv",
   "language": "python",
   "name": "python3"
  },
  "language_info": {
   "codemirror_mode": {
    "name": "ipython",
    "version": 3
   },
   "file_extension": ".py",
   "mimetype": "text/x-python",
   "name": "python",
   "nbconvert_exporter": "python",
   "pygments_lexer": "ipython3",
   "version": "3.9.21"
  }
 },
 "nbformat": 4,
 "nbformat_minor": 2
}
